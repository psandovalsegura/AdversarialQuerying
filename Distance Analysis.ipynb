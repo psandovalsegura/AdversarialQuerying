{
 "cells": [
  {
   "cell_type": "code",
   "execution_count": 71,
   "metadata": {},
   "outputs": [],
   "source": [
    "import torch\n",
    "\n",
    "from models.classification_heads import ClassificationHead\n",
    "from models.R2D2_embedding import R2D2Embedding\n",
    "from models.protonet_embedding import ProtoNetEmbedding\n",
    "from models.ResNet12_embedding import resnet12"
   ]
  },
  {
   "cell_type": "code",
   "execution_count": 72,
   "metadata": {},
   "outputs": [],
   "source": [
    "def get_model(network, head, dataset='miniImageNet', activation='LeakyReLU', denoise=False):\n",
    "    # Choose the embedding network\n",
    "    if network == 'ProtoNet':\n",
    "        network = ProtoNetEmbedding(activation=activation).cuda()\n",
    "    elif network == 'R2D2':\n",
    "        network = R2D2Embedding(denoise=denoise, activation=activation).cuda()\n",
    "    elif network == 'ResNet':\n",
    "        if dataset == 'miniImageNet' or dataset == 'tieredImageNet':\n",
    "            network = resnet12(avg_pool=False, drop_rate=0.1, dropblock_size=5).cuda()\n",
    "            network = torch.nn.DataParallel(network, device_ids=[0, 1, 2, 3])\n",
    "        else:\n",
    "            network = resnet12(avg_pool=False, drop_rate=0.1, dropblock_size=2).cuda()\n",
    "    else:\n",
    "        print (\"Cannot recognize the network type\")\n",
    "        assert(False)\n",
    "        \n",
    "    # Choose the classification head\n",
    "    if head == 'ProtoNet':\n",
    "        cls_head = ClassificationHead(base_learner='ProtoNet').cuda()\n",
    "    elif head == 'Ridge':\n",
    "        cls_head = ClassificationHead(base_learner='Ridge').cuda()\n",
    "    elif head == 'R2D2':\n",
    "        cls_head = ClassificationHead(base_learner='R2D2').cuda()\n",
    "    elif head == 'SVM':\n",
    "        cls_head = ClassificationHead(base_learner='SVM-CS').cuda()\n",
    "    else:\n",
    "        print (\"Cannot recognize the dataset type\")\n",
    "        assert(False)\n",
    "    \n",
    "    return (network, cls_head)\n",
    "\n",
    "def get_validation_dataset(dataset):\n",
    "    if dataset == 'miniImageNet':\n",
    "        from data.mini_imagenet import MiniImageNet, FewShotDataloader\n",
    "        #dataset_train = MiniImageNet(phase='train')\n",
    "        dataset_val = MiniImageNet(phase='val')\n",
    "        data_loader = FewShotDataloader\n",
    "    elif dataset == 'tieredImageNet':\n",
    "        from data.tiered_imagenet import tieredImageNet, FewShotDataloader\n",
    "        #dataset_train = tieredImageNet(phase='train')\n",
    "        dataset_val = tieredImageNet(phase='val')\n",
    "        data_loader = FewShotDataloader\n",
    "    elif dataset == 'CIFAR_FS':\n",
    "        from data.CIFAR_FS import CIFAR_FS, FewShotDataloader\n",
    "        #dataset_train = CIFAR_FS(phase='train')\n",
    "        dataset_val = CIFAR_FS(phase='val')\n",
    "        data_loader = FewShotDataloader\n",
    "    elif dataset == 'FC100':\n",
    "        from data.FC100 import FC100, FewShotDataloader\n",
    "        #dataset_train = FC100(phase='train')\n",
    "        dataset_val = FC100(phase='val')\n",
    "        data_loader = FewShotDataloader\n",
    "    else:\n",
    "        print (\"Cannot recognize the dataset type\")\n",
    "        assert(False)\n",
    "        \n",
    "    return (dataset_val, data_loader)"
   ]
  },
  {
   "cell_type": "markdown",
   "metadata": {},
   "source": [
    "### Load model from checkpoint"
   ]
  },
  {
   "cell_type": "code",
   "execution_count": 115,
   "metadata": {},
   "outputs": [],
   "source": [
    "network = 'ProtoNet'\n",
    "head = 'ProtoNet'\n",
    "ckpt_directory = '/vulcanscratch/psando/checkpoints-meta/train_protonet_mi_10_epoch_transition/'\n",
    "ckpt_directory_adv = '/vulcanscratch/psando/checkpoints-meta/train_protonet_mi_adv_10_epoch_transition/'\n",
    "test_way = 5\n",
    "val_shot = 5\n",
    "val_query = 15\n",
    "val_episode = 1000\n",
    "\n",
    "(embedding_net, cls_head) = get_model(network, head)\n",
    "(embedding_net_adv, cls_head_adv) = get_model(network, head)"
   ]
  },
  {
   "cell_type": "code",
   "execution_count": 111,
   "metadata": {},
   "outputs": [],
   "source": [
    "# Load saved model checkpoint\n",
    "saved_model = torch.load(ckpt_directory+'/epoch_5.pth') # best_model.pth\n",
    "embedding_net.load_state_dict(saved_model['embedding'])\n",
    "embedding_net.eval()\n",
    "cls_head.load_state_dict(saved_model['head'])\n",
    "cls_head.eval()\n",
    "\n",
    "saved_model_adv = torch.load(ckpt_directory_adv+'/epoch_5.pth') # best_model.pth\n",
    "embedding_net_adv.load_state_dict(saved_model_adv['embedding'])\n",
    "embedding_net_adv.eval()\n",
    "cls_head_adv.load_state_dict(saved_model_adv['head'])\n",
    "cls_head_adv.eval()\n",
    "\n",
    "pass"
   ]
  },
  {
   "cell_type": "markdown",
   "metadata": {},
   "source": [
    "### Load validation data"
   ]
  },
  {
   "cell_type": "code",
   "execution_count": 74,
   "metadata": {},
   "outputs": [
    {
     "name": "stdout",
     "output_type": "stream",
     "text": [
      "Loading mini ImageNet dataset - phase val\n"
     ]
    }
   ],
   "source": [
    "dataset_val, data_loader = get_validation_dataset('miniImageNet')\n",
    "\n",
    "dloader_val = data_loader(\n",
    "        dataset=dataset_val,\n",
    "        nKnovel=test_way,\n",
    "        nKbase=0,\n",
    "        nExemplars=val_shot,             # num training examples per novel category\n",
    "        nTestNovel=val_query * test_way, # num test examples for all the novel categories\n",
    "        nTestBase=0,                     # num test examples for all the base categories\n",
    "        batch_size=1,\n",
    "        num_workers=0,\n",
    "        epoch_size=1 * val_episode,      # num of batches per epoch\n",
    "    )"
   ]
  },
  {
   "cell_type": "code",
   "execution_count": 83,
   "metadata": {},
   "outputs": [],
   "source": [
    "%matplotlib inline\n",
    "import numpy as np\n",
    "import matplotlib.pyplot as plt\n",
    "import torchvision\n",
    "from utils import count_accuracy\n",
    "\n",
    "def log_distances(distances_arr, logits, scale, closest_prototype=True):\n",
    "    logits = logits / scale\n",
    "    if closest_prototype:\n",
    "        vals, _ = torch.max(logits, dim=1)    # distance to closest prototype\n",
    "    else:\n",
    "        vals = logits.reshape(-1)             # distance to all prototypes\n",
    "    distances_arr = np.append(distances_arr, (vals * -1).detach().cpu().numpy())\n",
    "    return distances_arr\n",
    "\n",
    "def validate(embedding_net, cls_head, dloader_val, test_way, val_shot, val_query, closest_prototype=True):\n",
    "    val_accuracies = []\n",
    "    distance_to_proto = np.array([])\n",
    "    for i, batch in enumerate(dloader_val(), 1):\n",
    "        data_support, labels_support, data_query, labels_query, _, _ = [x.cuda() for x in batch]\n",
    "\n",
    "        train_n_support = test_way * val_shot\n",
    "        train_n_query = test_way * val_query\n",
    "\n",
    "        emb_support = embedding_net(data_support.reshape([-1] + list(data_support.shape[-3:])))\n",
    "        emb_support = emb_support.reshape(1, train_n_support, -1)\n",
    "        # data_query_adv = AttackPGD(opt.attack_embedding, embedding_net, cls_head, config, data_query, emb_support, labels_query, labels_support, opt.train_way, opt.train_shot, opt.head, opt.episodes_per_batch, train_n_query)\n",
    "\n",
    "        emb_query = embedding_net(data_query.reshape([-1] + list(data_query.shape[-3:])))\n",
    "        emb_query = emb_query.reshape(1, train_n_query, -1)\n",
    "\n",
    "        logit_query = cls_head(emb_query, emb_support, labels_support, test_way, val_shot)\n",
    "\n",
    "        distance_to_proto = log_distances(distance_to_proto, \n",
    "                                          logit_query.reshape(train_n_query, test_way), \n",
    "                                          scale=cls_head.scale.item(),\n",
    "                                          closest_prototype=closest_prototype)\n",
    "\n",
    "        pred = torch.argmax(logit_query.reshape(-1, test_way), dim=1).view(-1)\n",
    "        acc = count_accuracy(logit_query.reshape(-1, test_way), labels_query.reshape(-1))\n",
    "        val_accuracies.append(acc.item())\n",
    "        \n",
    "    avg = np.mean(np.array(val_accuracies))\n",
    "    std = np.std(np.array(val_accuracies))\n",
    "    ci95 = 1.96 * std / np.sqrt(i + 1)\n",
    "\n",
    "    print('Episode [{}]:\\t\\t\\tAccuracy: {:.2f} ± {:.2f} %'\\\n",
    "              .format(i, avg, ci95))\n",
    "    return distance_to_proto"
   ]
  },
  {
   "cell_type": "code",
   "execution_count": 116,
   "metadata": {},
   "outputs": [
    {
     "name": "stdout",
     "output_type": "stream",
     "text": [
      "Episode [1000]:\t\t\tAccuracy: 39.41 ± 0.46 %\n",
      "Episode [1000]:\t\t\tAccuracy: 40.17 ± 0.47 %\n"
     ]
    }
   ],
   "source": [
    "closest_prototype = True\n",
    "distance_to_proto = validate(embedding_net, cls_head, dloader_val, test_way, val_shot, val_query, closest_prototype=closest_prototype)\n",
    "distance_to_proto_adv = validate(embedding_net_adv, cls_head_adv, dloader_val, test_way, val_shot, val_query, closest_prototype=closest_prototype)"
   ]
  },
  {
   "cell_type": "code",
   "execution_count": 117,
   "metadata": {},
   "outputs": [
    {
     "name": "stdout",
     "output_type": "stream",
     "text": [
      "Episode [1000]:\t\t\tAccuracy: 39.41 ± 0.46 %\n",
      "Episode [1000]:\t\t\tAccuracy: 40.17 ± 0.47 %\n"
     ]
    }
   ],
   "source": [
    "closest_prototype = False\n",
    "distance_to_proto_all = validate(embedding_net, cls_head, dloader_val, test_way, val_shot, val_query, closest_prototype=closest_prototype)\n",
    "distance_to_proto_adv_all = validate(embedding_net_adv, cls_head_adv, dloader_val, test_way, val_shot, val_query, closest_prototype=closest_prototype)"
   ]
  },
  {
   "cell_type": "code",
   "execution_count": 114,
   "metadata": {
    "scrolled": true
   },
   "outputs": [
    {
     "data": {
      "text/plain": [
       "<matplotlib.legend.Legend at 0x7fc215adf4d0>"
      ]
     },
     "execution_count": 114,
     "metadata": {},
     "output_type": "execute_result"
    },
    {
     "data": {
      "image/png": "[encoded data removed]",
      "text/plain": [
       "<Figure size 864x360 with 2 Axes>"
      ]
     },
     "metadata": {
      "needs_background": "light"
     },
     "output_type": "display_data"
    }
   ],
   "source": [
    "desired_range = (0,5) \n",
    "desired_bins = 50\n",
    "suptitle = 'Distance to Prototype (Epoch 5)'\n",
    "fig, (ax1, ax2) = plt.subplots(1, 2, figsize=(12, 5))\n",
    "fig.suptitle(suptitle)\n",
    "\n",
    "ax1.hist(distance_to_proto, range=desired_range, bins=desired_bins, lw=3, fc=(1, 0, 0, 0.5), label='ProtoNet')\n",
    "ax1.hist(distance_to_proto_adv, range=desired_range, bins=desired_bins, lw=3, fc=(0, 0, 1, 0.5), label='AQ ProtoNet') \n",
    "ax1.set_title('Closest Prototypes')\n",
    "ax1.set(xlabel='L2 Distance', ylabel='Count')\n",
    "ax1.legend(prop={'size': 10})\n",
    "\n",
    "ax2.hist(distance_to_proto_all, range=desired_range, bins=desired_bins, lw=3, fc=(1, 0, 0, 0.5), label='ProtoNet')\n",
    "ax2.hist(distance_to_proto_adv_all, range=desired_range, bins=desired_bins, lw=3, fc=(0, 0, 1, 0.5), label='AQ ProtoNet') \n",
    "ax2.set_title('All Prototypes')\n",
    "ax2.set(xlabel='L2 Distance', ylabel='Count')\n",
    "ax2.legend(prop={'size': 10})"
   ]
  },
  {
   "cell_type": "code",
   "execution_count": null,
   "metadata": {},
   "outputs": [],
   "source": []
  }
 ],
 "metadata": {
  "kernelspec": {
   "display_name": "Python 2",
   "language": "python",
   "name": "python2"
  },
  "language_info": {
   "codemirror_mode": {
    "name": "ipython",
    "version": 2
   },
   "file_extension": ".py",
   "mimetype": "text/x-python",
   "name": "python",
   "nbconvert_exporter": "python",
   "pygments_lexer": "ipython2",
   "version": "2.7.5"
  }
 },
 "nbformat": 4,
 "nbformat_minor": 2
}
